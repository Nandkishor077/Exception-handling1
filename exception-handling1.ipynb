{
 "cells": [
  {
   "cell_type": "raw",
   "id": "ee5a2043-2390-4d2a-a26e-ea926c9a6a7f",
   "metadata": {},
   "source": [
    "Q1. What is exception in python,write difference between exception and syntax error? "
   ]
  },
  {
   "cell_type": "raw",
   "id": "bc178172-9077-4f8c-9ee3-fa68bf99ac17",
   "metadata": {},
   "source": [
    "Ans.When in the runtime an error that occurs after passing the syntax test is called exception or logical type. For example, when we divide any number by zero then the ZeroDivisionError exception is raised, or when we import a module that does not exist then ImportError is raised.\n",
    "syantax error is different then exception ,  When the proper syntax of the language is not followed then a syntax error is thrown. "
   ]
  },
  {
   "cell_type": "raw",
   "id": "1d5b1e45-3f61-4b06-8ef8-5d50803f6df8",
   "metadata": {},
   "source": [
    "Q2. What happen when exception is not handeled, explain with example\n"
   ]
  },
  {
   "cell_type": "raw",
   "id": "acd2b616-065c-434d-b45d-bfc3c7becb74",
   "metadata": {},
   "source": [
    "Ans.Exceptions are raised when the program is syntactically correct, but the code results in an error. This error does not stop the execution of the program, however, it changes the normal flow of the program, and further program exicution stops, in this is given example the remaining print() statement is not get exicuted."
   ]
  },
  {
   "cell_type": "code",
   "execution_count": 4,
   "id": "2657f273-a189-4509-893f-5fc4268509e9",
   "metadata": {
    "collapsed": true,
    "jupyter": {
     "outputs_hidden": true
    },
    "tags": []
   },
   "outputs": [
    {
     "ename": "ZeroDivisionError",
     "evalue": "division by zero",
     "output_type": "error",
     "traceback": [
      "\u001b[0;31m---------------------------------------------------------------------------\u001b[0m",
      "\u001b[0;31mZeroDivisionError\u001b[0m                         Traceback (most recent call last)",
      "Cell \u001b[0;32mIn[4], line 4\u001b[0m\n\u001b[1;32m      1\u001b[0m marks \u001b[38;5;241m=\u001b[39m \u001b[38;5;241m5\u001b[39m\n\u001b[0;32m----> 4\u001b[0m a \u001b[38;5;241m=\u001b[39m \u001b[43mmarks\u001b[49m\u001b[43m \u001b[49m\u001b[38;5;241;43m/\u001b[39;49m\u001b[43m \u001b[49m\u001b[38;5;241;43m0\u001b[39;49m\n\u001b[1;32m      5\u001b[0m \u001b[38;5;28mprint\u001b[39m(a)\n\u001b[1;32m      7\u001b[0m \u001b[38;5;28mprint\u001b[39m(\u001b[38;5;124m\"\u001b[39m\u001b[38;5;124mthis statement is after exception\u001b[39m\u001b[38;5;124m\"\u001b[39m)\n",
      "\u001b[0;31mZeroDivisionError\u001b[0m: division by zero"
     ]
    }
   ],
   "source": [
    "marks = 5\n",
    " \n",
    "\n",
    "a = marks / 0\n",
    "print(a)\n",
    "\n",
    "print(\"this statement is after exception\")"
   ]
  },
  {
   "cell_type": "raw",
   "id": "5254f5e3-3f56-4add-8fe4-6b43538e3804",
   "metadata": {},
   "source": [
    "Q.3 which python statement is used to catch and handle exception ,give example ?"
   ]
  },
  {
   "cell_type": "raw",
   "id": "d3604c33-0c52-44d3-a550-ed1d876662ed",
   "metadata": {},
   "source": [
    "Ans.Try and except statements are used to catch and handle exceptions in Python. Statements that can raise exceptions are kept inside the try clause and the statements that handle the exception are written inside except clause."
   ]
  },
  {
   "cell_type": "code",
   "execution_count": 5,
   "id": "d841ea2d-652f-4901-83ac-08fdec3d5db5",
   "metadata": {},
   "outputs": [
    {
     "name": "stdout",
     "output_type": "stream",
     "text": [
      "An error occurred, the list contains only 3 elements\n"
     ]
    }
   ],
   "source": [
    " \n",
    "a = [1, 2, 3]\n",
    "try:\n",
    "    # Throws error since there are only 3 elements in array\n",
    "    print (\"Fourth element = %d\" %(a[3]))\n",
    " \n",
    "except:\n",
    "    print (\"An error occurred, the list contains only 3 elements\")"
   ]
  },
  {
   "cell_type": "raw",
   "id": "d3dddb18-1547-4789-90a2-3ff486ac6c24",
   "metadata": {},
   "source": [
    "Q4. Explain with example -\n",
    "a.try and else\n",
    "b.finally\n",
    "c.raise"
   ]
  },
  {
   "cell_type": "raw",
   "id": "9cd5ce50-084a-4be3-bca0-26e3c6cc140b",
   "metadata": {},
   "source": [
    "Ans.\n",
    "Try: This block will test the excepted error to occur\n",
    "Except:  Here you can handle the error\n",
    "Else: If there is no exception then this block will be executed\n",
    "Finally: Finally block always gets executed either exception is generated or not"
   ]
  },
  {
   "cell_type": "code",
   "execution_count": 7,
   "id": "ffb1d342-4b15-4f9b-ae12-80ad3b4f3690",
   "metadata": {},
   "outputs": [
    {
     "name": "stdout",
     "output_type": "stream",
     "text": [
      "your answer is  2.0\n",
      "this is always exicuted\n",
      "you can not divide with zero \n",
      "this is always exicuted\n"
     ]
    }
   ],
   "source": [
    "def divide(x,y):\n",
    "    try:\n",
    "        result = x/y\n",
    "        \n",
    "    except ZeroDivisionError:\n",
    "        print(\"you can not divide with zero \")\n",
    "    \n",
    "    else:\n",
    "        print(\"your answer is \", result)\n",
    "        \n",
    "    finally:\n",
    "        print(\"this is always exicuted\")\n",
    "\n",
    "divide(10,5)\n",
    "divide(10,0)"
   ]
  },
  {
   "cell_type": "raw",
   "id": "4b0ecbe1-5d8c-404f-ba0b-d81a7295b692",
   "metadata": {},
   "source": [
    "Q.5 what is custom excpetion , why do we need give example?"
   ]
  },
  {
   "cell_type": "raw",
   "id": "491315d8-8572-43cd-b787-b5bc29a5ade9",
   "metadata": {},
   "source": [
    "Ans.If a programmer needs to create his own exceptions and raise explicitly for corresponding scenarios. Such types of exceptions are called customized Exceptions or Programmatic Exceptions. We can raise a custom exception by using the keyword 'raise' .\n",
    "suppose a program for validating  people of age group 21 to 50 will need an error throwing message of not taking age below 21 and above 50.\n"
   ]
  },
  {
   "cell_type": "raw",
   "id": "3e5fe890-7d11-4c16-894e-bbdc5fc5e181",
   "metadata": {},
   "source": [
    "Q6. Create a custom exception class .use this class to handle exception"
   ]
  },
  {
   "cell_type": "code",
   "execution_count": 11,
   "id": "7d5e44b3-229b-4dcb-b0e4-a5fde5997314",
   "metadata": {},
   "outputs": [
    {
     "name": "stdin",
     "output_type": "stream",
     "text": [
      "enter your age 21\n"
     ]
    },
    {
     "name": "stdout",
     "output_type": "stream",
     "text": [
      "you are eligible to vote\n"
     ]
    }
   ],
   "source": [
    "class Invalid_Age(Exception):\n",
    "    pass\n",
    "\n",
    "try :\n",
    "    age = int(input(\"enter your age\"))\n",
    "    if age > 18 :\n",
    "        print(\"you are eligible to vote\")\n",
    "    else:\n",
    "        raise Invalid_Age\n",
    "        \n",
    "except Invalid_Age : \n",
    "    print(\"your are not eligible\")\n",
    "    \n",
    "    \n",
    "        \n",
    "    "
   ]
  },
  {
   "cell_type": "code",
   "execution_count": null,
   "id": "2a67f6cf-b5c7-4069-93b0-33b65cdfe6e7",
   "metadata": {},
   "outputs": [],
   "source": []
  }
 ],
 "metadata": {
  "kernelspec": {
   "display_name": "Python 3 (ipykernel)",
   "language": "python",
   "name": "python3"
  },
  "language_info": {
   "codemirror_mode": {
    "name": "ipython",
    "version": 3
   },
   "file_extension": ".py",
   "mimetype": "text/x-python",
   "name": "python",
   "nbconvert_exporter": "python",
   "pygments_lexer": "ipython3",
   "version": "3.10.8"
  }
 },
 "nbformat": 4,
 "nbformat_minor": 5
}
